{
 "cells": [
  {
   "cell_type": "markdown",
   "metadata": {},
   "source": [
    "# Monte Carlo On-Policy Strategy\n",
    "\n",
    "**Algorithm**\n",
    "\\\n",
    "**Input** $\\epsilon$ random action probabilites, $\\gamma$ discount factor\n",
    "\\\n",
    "$\\pi \\leftarrow$ e-greedy policy w.r.t $Q(s, a)$\n",
    "\\\n",
    "**Initialize** $Q(s, a)$ arbitrarily with $Q$(terminal,) = 0\n",
    "\\\n",
    "$G(s, a) \\leftarrow [\\;]$\n",
    "\\\n",
    "**for** episode $\\in 1..N$ do\n",
    "\\\n",
    "$\\;\\;\\;\\;\\;\\;$ Generate episode following $\\pi: S_{0}, A_{0}, R{1}, ...., S_{T-1}, A_{T-1}, R_{T}$\n",
    "\\\n",
    "$\\;\\;\\;\\;\\;\\;$ $G \\leftarrow 0$\n",
    "\\\n",
    "$\\;\\;\\;\\;\\;\\;$ **for** $t \\in T - 1..0$ do\n",
    "\\\n",
    "$\\;\\;\\;\\;\\;\\; \\;\\;\\;\\;\\;\\;$ $G \\leftarrow R_{t+1} + \\gamma G$\n",
    "\\\n",
    "$\\;\\;\\;\\;\\;\\; \\;\\;\\;\\;\\;\\;$ Append $G$ to $G(S_{t}, A_{t})$\n",
    "\\\n",
    "$\\;\\;\\;\\;\\;\\; \\;\\;\\;\\;\\;\\;$ $Q(s, a) \\leftarrow(G(S_{t}, A_{t}))$\n",
    "\\\n",
    "$\\;\\;\\;\\;\\;\\;$ **end for**\n",
    "\\\n",
    "**end for**\n",
    "\\\n",
    "\\\n",
    "**Output:** Neat optimal policy $\\pi$ and action values $Q(s, a)$"
   ]
  },
  {
   "cell_type": "code",
   "execution_count": null,
   "metadata": {},
   "outputs": [],
   "source": [
    "# import \n",
    "import gym \n",
    "import numpy as np\n",
    "\n",
    "from envs import Maze\n",
    "from utils import "
   ]
  }
 ],
 "metadata": {
  "interpreter": {
   "hash": "0560bb04753e9bea54a6ac47cf5286fd188ae3e66a7b41ee1270fe17f341e0e1"
  },
  "kernelspec": {
   "display_name": "Python 3.8.0 ('torchRL')",
   "language": "python",
   "name": "python3"
  },
  "language_info": {
   "name": "python",
   "version": "3.8.0"
  },
  "orig_nbformat": 4
 },
 "nbformat": 4,
 "nbformat_minor": 2
}
