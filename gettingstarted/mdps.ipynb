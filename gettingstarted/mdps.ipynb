{
 "cells": [
  {
   "cell_type": "markdown",
   "metadata": {},
   "source": [
    "# Markov decision process "
   ]
  },
  {
   "cell_type": "code",
   "execution_count": 24,
   "metadata": {},
   "outputs": [],
   "source": [
    "# import\n",
    "import gym\n",
    "import numpy as np\n",
    "from IPython import display\n",
    "import matplotlib.pyplot as plt"
   ]
  },
  {
   "cell_type": "code",
   "execution_count": 2,
   "metadata": {},
   "outputs": [],
   "source": [
    "# CartPorl Environment\n",
    "env = gym.make('MountainCar-v0')"
   ]
  },
  {
   "cell_type": "code",
   "execution_count": 3,
   "metadata": {},
   "outputs": [
    {
     "name": "stdout",
     "output_type": "stream",
     "text": [
      "The initial state [-0.58417124  0.        ]\n"
     ]
    }
   ],
   "source": [
    "# initial state\n",
    "init_state = env.reset()\n",
    "print(f'The initial state {init_state}')"
   ]
  },
  {
   "cell_type": "code",
   "execution_count": 6,
   "metadata": {},
   "outputs": [
    {
     "data": {
      "image/png": "[encoded data removed]",
      "text/plain": [
       "<Figure size 432x288 with 1 Axes>"
      ]
     },
     "metadata": {
      "needs_background": "light"
     },
     "output_type": "display_data"
    }
   ],
   "source": [
    "frame = env.render(mode='rgb_array')\n",
    "plt.axis('off')\n",
    "plt.imshow(frame)\n",
    "env.close()"
   ]
  },
  {
   "cell_type": "markdown",
   "metadata": {},
   "source": [
    "### Observation and Action\n",
    "#### Observation\n",
    "The observation is a `ndarray` with shape `(2,)` where the elements correspond to the following:\n",
    "| Num | Observation                                                 | Min                | Max    | Unit |\n",
    "|-----|-------------------------------------------------------------|--------------------|--------|------|\n",
    "| 0   | position of the car along the x-axis                        | -Inf               | Inf    | position (m) |\n",
    "| 1   | velocity of the car                                         | -Inf               | Inf  | position (m) |\n",
    "\n",
    "#### Actions\n",
    "There are 3 discrete deterministic actions:\n",
    "| Num | Observation                                                 | Value   | Unit |\n",
    "|-----|-------------------------------------------------------------|---------|------|\n",
    "| 0   | Accelerate to the left                                      | Inf    | position (m) |\n",
    "| 1   | Don't accelerate                                            | Inf  | position (m) |\n",
    "| 2   | Accelerate to the right                                     | Inf    | position (m) |"
   ]
  },
  {
   "cell_type": "markdown",
   "metadata": {},
   "source": [
    "### Trajectories and Episodes"
   ]
  },
  {
   "cell_type": "code",
   "execution_count": 4,
   "metadata": {},
   "outputs": [
    {
     "name": "stdout",
     "output_type": "stream",
     "text": [
      "First 3 trajectory:\n",
      "[[array([-0.47620684,  0.        ], dtype=float32), 1, -1.0, False, array([-4.7656107e-01, -3.5424330e-04], dtype=float32)], [array([-4.7656107e-01, -3.5424330e-04], dtype=float32), 2, -1.0, False, array([-4.7626692e-01,  2.9414363e-04], dtype=float32)], [array([-4.7626692e-01,  2.9414363e-04], dtype=float32), 0, -1.0, False, array([-0.47732657, -0.00105965], dtype=float32)]]\n"
     ]
    }
   ],
   "source": [
    "# generate first 3 trajectories\n",
    "state = env.reset()\n",
    "trajectory = []\n",
    "for _ in range(3):\n",
    "    action = env.action_space.sample()\n",
    "    next_state, reward, done, info = env.step(action)\n",
    "    trajectory.append([state,action,reward,done,next_state])\n",
    "    state = next_state\n",
    "    \n",
    "env.close\n",
    "print(f'First 3 trajectory:\\n{trajectory}')\n"
   ]
  },
  {
   "cell_type": "code",
   "execution_count": 7,
   "metadata": {},
   "outputs": [
    {
     "name": "stdout",
     "output_type": "stream",
     "text": [
      "One Full episoide\n",
      ":[[array([-0.5267803,  0.0010316], dtype=float32), -1.0, False, {}], [array([-5.2672482e-01,  5.5458502e-05], dtype=float32), -1.0, False, {}], [array([-0.52764595, -0.0009211 ], dtype=float32), -1.0, False, {}], [array([-0.5285367 , -0.00089074], dtype=float32), -1.0, False, {}], [array([-0.5293904 , -0.00085371], dtype=float32), -1.0, False, {}], [array([-5.2920067e-01,  1.8972422e-04], dtype=float32), -1.0, False, {}], [array([-0.5299689 , -0.00076826], dtype=float32), -1.0, False, {}], [array([-0.5316894 , -0.00172049], dtype=float32), -1.0, False, {}], [array([-0.5323492 , -0.00065982], dtype=float32), -1.0, False, {}], [array([-0.5339434, -0.0015942], dtype=float32), -1.0, False, {}], [array([-0.53546005, -0.00151662], dtype=float32), -1.0, False, {}], [array([-0.5368877 , -0.00142768], dtype=float32), -1.0, False, {}], [array([-0.53921574, -0.00232804], dtype=float32), -1.0, False, {}], [array([-0.5414267 , -0.00221096], dtype=float32), -1.0, False, {}], [array([-0.542504  , -0.00107731], dtype=float32), -1.0, False, {}], [array([-0.5444396, -0.0019356], dtype=float32), -1.0, False, {}], [array([-0.545219  , -0.00077939], dtype=float32), -1.0, False, {}], [array([-5.4483640e-01,  3.8264514e-04], dtype=float32), -1.0, False, {}], [array([-5.452946e-01, -4.581805e-04], dtype=float32), -1.0, False, {}], [array([-0.5445901 ,  0.00070442], dtype=float32), -1.0, False, {}], [array([-5.4472840e-01, -1.3824571e-04], dtype=float32), -1.0, False, {}], [array([-0.54370826,  0.00102012], dtype=float32), -1.0, False, {}], [array([-5.4353744e-01,  1.7085003e-04], dtype=float32), -1.0, False, {}], [array([-0.54221714,  0.0013203 ], dtype=float32), -1.0, False, {}], [array([-5.4175723e-01,  4.5986567e-04], dtype=float32), -1.0, False, {}], [array([-0.54016125,  0.00159599], dtype=float32), -1.0, False, {}], [array([-0.53744113,  0.00272015], dtype=float32), -1.0, False, {}], [array([-0.5346172 ,  0.00282394], dtype=float32), -1.0, False, {}], [array([-0.5327106 ,  0.00190657], dtype=float32), -1.0, False, {}], [array([-0.53073573,  0.0019749 ], dtype=float32), -1.0, False, {}], [array([-0.5277073 ,  0.00302842], dtype=float32), -1.0, False, {}], [array([-0.5246481 ,  0.00305923], dtype=float32), -1.0, False, {}], [array([-0.52058095,  0.0040671 ], dtype=float32), -1.0, False, {}], [array([-0.5175365 ,  0.00304447], dtype=float32), -1.0, False, {}], [array([-0.5145375,  0.002999 ], dtype=float32), -1.0, False, {}], [array([-0.51160645,  0.00293105], dtype=float32), -1.0, False, {}], [array([-0.5097653 ,  0.00184113], dtype=float32), -1.0, False, {}], [array([-0.5070279 ,  0.00273741], dtype=float32), -1.0, False, {}], [array([-0.50341475,  0.00361318], dtype=float32), -1.0, False, {}], [array([-0.49895284,  0.00446189], dtype=float32), -1.0, False, {}], [array([-0.49567562,  0.00327721], dtype=float32), -1.0, False, {}], [array([-0.49160758,  0.00406803], dtype=float32), -1.0, False, {}], [array([-0.48877913,  0.00282847], dtype=float32), -1.0, False, {}], [array([-0.4852113,  0.0035678], dtype=float32), -1.0, False, {}], [array([-0.4819308 ,  0.00328053], dtype=float32), -1.0, False, {}], [array([-0.47896197,  0.00296883], dtype=float32), -1.0, False, {}], [array([-0.47732693,  0.00163505], dtype=float32), -1.0, False, {}], [array([-0.47503778,  0.00228913], dtype=float32), -1.0, False, {}], [array([-0.47211158,  0.00292621], dtype=float32), -1.0, False, {}], [array([-0.46957   ,  0.00254159], dtype=float32), -1.0, False, {}], [array([-0.46643186,  0.00313814], dtype=float32), -1.0, False, {}], [array([-0.46372035,  0.00271149], dtype=float32), -1.0, False, {}], [array([-0.46245554,  0.00126481], dtype=float32), -1.0, False, {}], [array([-0.46164674,  0.00080881], dtype=float32), -1.0, False, {}], [array([-0.4602999 ,  0.00134684], dtype=float32), -1.0, False, {}], [array([-0.45842496,  0.00187494], dtype=float32), -1.0, False, {}], [array([-0.45603573,  0.00238925], dtype=float32), -1.0, False, {}], [array([-0.45414972,  0.00188599], dtype=float32), -1.0, False, {}], [array([-0.45178086,  0.00236888], dtype=float32), -1.0, False, {}], [array([-0.44994646,  0.0018344 ], dtype=float32), -1.0, False, {}], [array([-0.44865996,  0.00128649], dtype=float32), -1.0, False, {}], [array([-0.4469308 ,  0.00172918], dtype=float32), -1.0, False, {}], [array([-0.44577157,  0.00115922], dtype=float32), -1.0, False, {}], [array([-0.44419074,  0.00158081], dtype=float32), -1.0, False, {}], [array([-0.4421999 ,  0.00199086], dtype=float32), -1.0, False, {}], [array([-4.4181347e-01,  3.8642131e-04], dtype=float32), -1.0, False, {}], [array([-0.44103432,  0.00077917], dtype=float32), -1.0, False, {}], [array([-4.4086805e-01,  1.6624622e-04], dtype=float32), -1.0, False, {}], [array([-0.44031593,  0.00055212], dtype=float32), -1.0, False, {}], [array([-0.44138196, -0.00106603], dtype=float32), -1.0, False, {}], [array([-0.44305837, -0.00167642], dtype=float32), -1.0, False, {}], [array([-0.444333  , -0.00127461], dtype=float32), -1.0, False, {}], [array([-0.4451965 , -0.00086352], dtype=float32), -1.0, False, {}], [array([-0.44664264, -0.00144613], dtype=float32), -1.0, False, {}], [array([-0.44966084, -0.00301819], dtype=float32), -1.0, False, {}], [array([-0.453229  , -0.00356818], dtype=float32), -1.0, False, {}], [array([-0.45632106, -0.00309205], dtype=float32), -1.0, False, {}], [array([-0.45891428, -0.00259321], dtype=float32), -1.0, False, {}], [array([-0.46098956, -0.0020753 ], dtype=float32), -1.0, False, {}], [array([-0.4635317 , -0.00254212], dtype=float32), -1.0, False, {}], [array([-0.46752188, -0.00399019], dtype=float32), -1.0, False, {}], [array([-0.47293067, -0.00540878], dtype=float32), -1.0, False, {}], [array([-0.479718  , -0.00678733], dtype=float32), -1.0, False, {}], [array([-0.48583347, -0.00611549], dtype=float32), -1.0, False, {}], [array([-0.4932316 , -0.00739812], dtype=float32), -1.0, False, {}], [array([-0.5008572 , -0.00762556], dtype=float32), -1.0, False, {}], [array([-0.50965315, -0.00879599], dtype=float32), -1.0, False, {}], [array([-0.5195537 , -0.00990055], dtype=float32), -1.0, False, {}], [array([-0.52948457, -0.00993089], dtype=float32), -1.0, False, {}], [array([-0.54037136, -0.01088675], dtype=float32), -1.0, False, {}], [array([-0.5511323 , -0.01076101], dtype=float32), -1.0, False, {}], [array([-0.5616871 , -0.01055474], dtype=float32), -1.0, False, {}], [array([-0.5719568, -0.0102697], dtype=float32), -1.0, False, {}], [array([-0.58286506, -0.01090828], dtype=float32), -1.0, False, {}], [array([-0.5933312 , -0.01046613], dtype=float32), -1.0, False, {}], [array([-0.6022781 , -0.00894694], dtype=float32), -1.0, False, {}], [array([-0.61164045, -0.00936231], dtype=float32), -1.0, False, {}], [array([-0.6213501 , -0.00970965], dtype=float32), -1.0, False, {}], [array([-0.6293371 , -0.00798697], dtype=float32), -1.0, False, {}], [array([-0.63554424, -0.00620717], dtype=float32), -1.0, False, {}], [array([-0.6409275 , -0.00538327], dtype=float32), -1.0, False, {}], [array([-0.64644885, -0.00552137], dtype=float32), -1.0, False, {}], [array([-0.65206957, -0.00562071], dtype=float32), -1.0, False, {}], [array([-0.65675044, -0.00468085], dtype=float32), -1.0, False, {}], [array([-0.659459  , -0.00270856], dtype=float32), -1.0, False, {}], [array([-0.66117656, -0.00171759], dtype=float32), -1.0, False, {}], [array([-6.608914e-01,  2.851974e-04], dtype=float32), -1.0, False, {}], [array([-0.65860534,  0.00228602], dtype=float32), -1.0, False, {}], [array([-0.6563342 ,  0.00227112], dtype=float32), -1.0, False, {}], [array([-0.6520937 ,  0.00424053], dtype=float32), -1.0, False, {}], [array([-0.6469132 ,  0.00518055], dtype=float32), -1.0, False, {}], [array([-0.6418287 ,  0.00508446], dtype=float32), -1.0, False, {}], [array([-0.634876  ,  0.00695271], dtype=float32), -1.0, False, {}], [array([-0.62810415,  0.00677187], dtype=float32), -1.0, False, {}], [array([-0.61956125,  0.00854288], dtype=float32), -1.0, False, {}], [array([-0.6103085,  0.0092527], dtype=float32), -1.0, False, {}], [array([-0.60141283,  0.00889572], dtype=float32), -1.0, False, {}], [array([-0.5919388 ,  0.00947403], dtype=float32), -1.0, False, {}], [array([-0.5819558,  0.009983 ], dtype=float32), -1.0, False, {}], [array([-0.5715373 ,  0.01041845], dtype=float32), -1.0, False, {}], [array([-0.5607606 ,  0.01077675], dtype=float32), -1.0, False, {}], [array([-0.55070573,  0.01005488], dtype=float32), -1.0, False, {}], [array([-0.5394477 ,  0.01125796], dtype=float32), -1.0, False, {}], [array([-0.52707094,  0.01237679], dtype=float32), -1.0, False, {}], [array([-0.5146681 ,  0.01240283], dtype=float32), -1.0, False, {}], [array([-0.50333226,  0.01133585], dtype=float32), -1.0, False, {}], [array([-0.49114832,  0.01218395], dtype=float32), -1.0, False, {}], [array([-0.47820738,  0.01294096], dtype=float32), -1.0, False, {}], [array([-0.4646058 ,  0.01360157], dtype=float32), -1.0, False, {}], [array([-0.4514444 ,  0.01316143], dtype=float32), -1.0, False, {}], [array([-0.4388199 ,  0.01262449], dtype=float32), -1.0, False, {}], [array([-0.4278244 ,  0.01099548], dtype=float32), -1.0, False, {}], [array([-0.4185374 ,  0.00928701], dtype=float32), -1.0, False, {}], [array([-0.41102538,  0.00751203], dtype=float32), -1.0, False, {}], [array([-0.40534166,  0.00568369], dtype=float32), -1.0, False, {}], [array([-0.4005264 ,  0.00481525], dtype=float32), -1.0, False, {}], [array([-0.39561337,  0.00491304], dtype=float32), -1.0, False, {}], [array([-0.39163682,  0.00397656], dtype=float32), -1.0, False, {}], [array([-0.38762432,  0.0040125 ], dtype=float32), -1.0, False, {}], [array([-0.38360357,  0.00402074], dtype=float32), -1.0, False, {}], [array([-0.3806022 ,  0.00300137], dtype=float32), -1.0, False, {}], [array([-0.37864074,  0.00196149], dtype=float32), -1.0, False, {}], [array([-3.7873247e-01, -9.1753151e-05], dtype=float32), -1.0, False, {}], [array([-3.7887686e-01, -1.4436967e-04], dtype=float32), -1.0, False, {}], [array([-0.38107285, -0.002196  ], dtype=float32), -1.0, False, {}], [array([-0.38430554, -0.00323267], dtype=float32), -1.0, False, {}], [array([-0.38955277, -0.00524723], dtype=float32), -1.0, False, {}], [array([-0.39577845, -0.0062257 ], dtype=float32), -1.0, False, {}], [array([-0.4039395 , -0.00816103], dtype=float32), -1.0, False, {}], [array([-0.41397882, -0.01003932], dtype=float32), -1.0, False, {}], [array([-0.42482555, -0.01084673], dtype=float32), -1.0, False, {}], [array([-0.43540227, -0.01057674], dtype=float32), -1.0, False, {}], [array([-0.44763282, -0.01223052], dtype=float32), -1.0, False, {}], [array([-0.46042815, -0.01279535], dtype=float32), -1.0, False, {}], [array([-0.47469446, -0.0142663 ], dtype=float32), -1.0, False, {}], [array([-0.49032623, -0.01563177], dtype=float32), -1.0, False, {}], [array([-0.5062071, -0.0158809], dtype=float32), -1.0, False, {}], [array([-0.5232184 , -0.01701127], dtype=float32), -1.0, False, {}], [array([-0.5392325 , -0.01601413], dtype=float32), -1.0, False, {}], [array([-0.55612946, -0.01689692], dtype=float32), -1.0, False, {}], [array([-0.57278275, -0.01665332], dtype=float32), -1.0, False, {}], [array([-0.58906853, -0.01628578], dtype=float32), -1.0, False, {}], [array([-0.60486645, -0.01579791], dtype=float32), -1.0, False, {}], [array([-0.6190609 , -0.01419442], dtype=float32), -1.0, False, {}], [array([-0.63254905, -0.0134882 ], dtype=float32), -1.0, False, {}], [array([-0.6442346 , -0.01168555], dtype=float32), -1.0, False, {}], [array([-0.656035 , -0.0118004], dtype=float32), -1.0, False, {}], [array([-0.6668681 , -0.01083305], dtype=float32), -1.0, False, {}], [array([-0.6766594 , -0.00979131], dtype=float32), -1.0, False, {}], [array([-0.68634266, -0.00968328], dtype=float32), -1.0, False, {}], [array([-0.69385326, -0.00751061], dtype=float32), -1.0, False, {}], [array([-0.7011418 , -0.00728851], dtype=float32), -1.0, False, {}], [array([-0.7061608 , -0.00501901], dtype=float32), -1.0, False, {}], [array([-0.710878  , -0.00471722], dtype=float32), -1.0, False, {}], [array([-0.71526337, -0.00438537], dtype=float32), -1.0, False, {}], [array([-0.7182892 , -0.00302579], dtype=float32), -1.0, False, {}], [array([-0.7209364 , -0.00264723], dtype=float32), -1.0, False, {}], [array([-0.7231886 , -0.00225215], dtype=float32), -1.0, False, {}], [array([-0.7240316 , -0.00084308], dtype=float32), -1.0, False, {}], [array([-7.244604e-01, -4.288005e-04], dtype=float32), -1.0, False, {}], [array([-0.7234723 ,  0.00098813], dtype=float32), -1.0, False, {}], [array([-0.7220733 ,  0.00139896], dtype=float32), -1.0, False, {}], [array([-0.71927226,  0.00280111], dtype=float32), -1.0, False, {}], [array([-0.71608645,  0.00318581], dtype=float32), -1.0, False, {}], [array([-0.7115359 ,  0.00455056], dtype=float32), -1.0, False, {}], [array([-0.70564926,  0.00588659], dtype=float32), -1.0, False, {}], [array([-0.69846416,  0.0071851 ], dtype=float32), -1.0, False, {}], [array([-0.6890269 ,  0.00943726], dtype=float32), -1.0, False, {}], [array([-0.6773993 ,  0.01162766], dtype=float32), -1.0, False, {}], [array([-0.66365856,  0.01374067], dtype=float32), -1.0, False, {}], [array([-0.6478981 ,  0.01576048], dtype=float32), -1.0, False, {}], [array([-0.63022685,  0.01767127], dtype=float32), -1.0, False, {}], [array([-0.61076945,  0.01945741], dtype=float32), -1.0, False, {}], [array([-0.58966565,  0.02110376], dtype=float32), -1.0, False, {}], [array([-0.56806964,  0.02159603], dtype=float32), -1.0, False, {}], [array([-0.5471411 ,  0.02092857], dtype=float32), -1.0, False, {}], [array([-0.5250361 ,  0.02210499], dtype=float32), -1.0, False, {}], [array([-0.5019203 ,  0.02311577], dtype=float32), -1.0, False, {}], [array([-0.478967 ,  0.0229533], dtype=float32), -1.0, False, {}], [array([-0.45634744,  0.02261956], dtype=float32), -1.0, True, {'TimeLimit.truncated': True}]]\n"
     ]
    }
   ],
   "source": [
    "# generate one full epsoide\n",
    "obs = env.reset()\n",
    "done = False\n",
    "episoide = []\n",
    "while not done:\n",
    "    action = env.action_space.sample()\n",
    "    next_state, reward, done, info = env.step(action)\n",
    "    episoide.append([next_state, reward, done, info])\n",
    "    obs = next_state\n",
    "    \n",
    "env.close()\n",
    "print(f'One Full episoide\\n:{episoide}')\n",
    "    "
   ]
  },
  {
   "cell_type": "markdown",
   "metadata": {},
   "source": [
    "### Rewards and Returns\n",
    "**Reward** is numerical feedback that the environment generates when the agent takes an action `a` in a state `s`\n",
    "\\begin{equation}\n",
    "    r = r(s, a)\n",
    "\\end{equation}"
   ]
  },
  {
   "cell_type": "code",
   "execution_count": 8,
   "metadata": {},
   "outputs": [
    {
     "name": "stdout",
     "output_type": "stream",
     "text": [
      "Reward of -1.0 by taking action 2 in state [-0.5317942  0.       ]\n"
     ]
    }
   ],
   "source": [
    "state = env.reset()\n",
    "action = env.action_space.sample()\n",
    "_, reward, _, _ = env.step(action)\n",
    "print(f'Reward of {reward} by taking action {action} in state {state}')"
   ]
  },
  {
   "cell_type": "markdown",
   "metadata": {},
   "source": [
    "**Return** associated with a moment in time `t` is the sum (*discounted*) of rewards that the agent obtains from the moment.\n",
    "\\begin{equation}\n",
    "    G_0 = R_1 + \\gamma R_2 + \\gamma^2 R_3 + ... + \\gamma^{T-1} R_T\n",
    "\\end{equation}"
   ]
  },
  {
   "cell_type": "code",
   "execution_count": 9,
   "metadata": {},
   "outputs": [
    {
     "name": "stdout",
     "output_type": "stream",
     "text": [
      "It took us 200 moves to reach the goal, and each reward r(s, a), so the return amounts to -86.6020325142037\n"
     ]
    }
   ],
   "source": [
    "# assume that the discount factor gamma = .99\n",
    "state = env.reset()\n",
    "done = False\n",
    "gamma = .99\n",
    "g_0 = 0\n",
    "timestep = 0\n",
    "\n",
    "while not done:\n",
    "    action = env.action_space.sample()\n",
    "    _, reward, done, _ = env.step(action)\n",
    "    g_0 += gamma ** timestep * reward\n",
    "    timestep += 1\n",
    "\n",
    "env.close()\n",
    "print(f'It took us {timestep} moves to reach the goal, and each reward r(s, a), so the return amounts to {g_0}')"
   ]
  },
  {
   "cell_type": "markdown",
   "metadata": {},
   "source": [
    "#### Policy\n",
    "**Policy** is a function  $\\pi(a|s) \\in [0, 1]$ that gives the probabilitiy of an action given the current state. The fucntion takes the state and action as inputs and returns a float in [0,1].\n"
   ]
  },
  {
   "cell_type": "code",
   "execution_count": 12,
   "metadata": {},
   "outputs": [],
   "source": [
    "# randomly chooses actions \n",
    "def random_policy(state):\n",
    "    return np.array([.33]*3)"
   ]
  },
  {
   "cell_type": "code",
   "execution_count": 13,
   "metadata": {},
   "outputs": [],
   "source": [
    "action_probabilities = random_policy(state=env.reset())"
   ]
  },
  {
   "cell_type": "code",
   "execution_count": 19,
   "metadata": {},
   "outputs": [
    {
     "data": {
      "image/png": "[encoded data removed]",
      "text/plain": [
       "<Figure size 432x288 with 1 Axes>"
      ]
     },
     "metadata": {
      "needs_background": "light"
     },
     "output_type": "display_data"
    }
   ],
   "source": [
    "actions = ('Accerlerate to the left', 'Don\\'t accerlarate', 'Accerlerate to the right')\n",
    "y_pos = np.arange(len(actions))\n",
    "\n",
    "plt.bar(y_pos, action_probabilities,)\n",
    "plt.xticks(y_pos, actions)\n",
    "plt.tight_layout()\n",
    "plt.ylabel('P(a|s)')\n",
    "plt.title('Random Policy')\n",
    "plt.show()"
   ]
  },
  {
   "cell_type": "code",
   "execution_count": null,
   "metadata": {},
   "outputs": [],
   "source": [
    "env.reset()\n",
    "done = False\n",
    "img = plt.imshow(env.render(mode='rgb_array'))\n",
    "while not done:\n",
    "    _, _, done, _ = env.step(env.action_space.sample())\n",
    "    img.set_data(env.render(mode='rgb_array'))\n",
    "    plt.axis('off')\n",
    "    display.display(plt.gcf())\n",
    "    display.clear_output(wait=True)\n",
    "    \n",
    "env.close()"
   ]
  },
  {
   "cell_type": "code",
   "execution_count": null,
   "metadata": {},
   "outputs": [],
   "source": []
  }
 ],
 "metadata": {
  "interpreter": {
   "hash": "0560bb04753e9bea54a6ac47cf5286fd188ae3e66a7b41ee1270fe17f341e0e1"
  },
  "kernelspec": {
   "display_name": "Python 3.8.0 ('torchRL')",
   "language": "python",
   "name": "python3"
  },
  "language_info": {
   "codemirror_mode": {
    "name": "ipython",
    "version": 3
   },
   "file_extension": ".py",
   "mimetype": "text/x-python",
   "name": "python",
   "nbconvert_exporter": "python",
   "pygments_lexer": "ipython3",
   "version": "3.8.0"
  },
  "orig_nbformat": 4
 },
 "nbformat": 4,
 "nbformat_minor": 2
}
