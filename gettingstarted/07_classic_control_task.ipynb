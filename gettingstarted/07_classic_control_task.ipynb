{
 "cells": [
  {
   "cell_type": "markdown",
   "id": "d63e53f1-88b8-44c4-94f3-439602020961",
   "metadata": {},
   "source": [
    "# Classic Control: Control theory problems from the classic Reinforment Learning"
   ]
  },
  {
   "cell_type": "code",
   "execution_count": 7,
   "id": "9f1b4405-88da-4d24-8f11-0377a8727271",
   "metadata": {},
   "outputs": [],
   "source": [
    "# import \n",
    "import gym\n",
    "import numpy as np\n",
    "from IPython import display\n",
    "from matplotlib import pyplot as plt\n",
    "%matplotlib inline"
   ]
  },
  {
   "cell_type": "code",
   "execution_count": 8,
   "id": "30621cad-91b1-4267-af2b-ed94a15c455e",
   "metadata": {},
   "outputs": [],
   "source": [
    "def test_env(env: gym.Env) -> None:\n",
    "    env.reset()\n",
    "    img = plt.imshow(env.render(mode= 'rgb_array'))\n",
    "    \n",
    "    for _ in range(100):\n",
    "        _, _, _, _ = env.step(env.action_space.sample())\n",
    "        img.set_data(env.render(mode= 'rgb_array'))\n",
    "        plt.axis('off')\n",
    "        display.display(plt.gcf())\n",
    "        display.clear_output(wait=True)\n",
    "        \n",
    "    env.close()"
   ]
  },
  {
   "cell_type": "markdown",
   "id": "79f3b6dc-cbaf-4aa7-8ec9-8407fb4218cb",
   "metadata": {},
   "source": [
    "## 1- CartPole\n",
    "Keep the tip of the pole straight"
   ]
  },
  {
   "cell_type": "code",
   "execution_count": 8,
   "id": "f479e43b-98fc-4de9-ac92-6727063b75d9",
   "metadata": {},
   "outputs": [
    {
     "data": {
      "image/png": "[encoded data removed]",
      "text/plain": [
       "<Figure size 432x288 with 1 Axes>"
      ]
     },
     "metadata": {
      "needs_background": "light"
     },
     "output_type": "display_data"
    }
   ],
   "source": [
    "env = gym.make('CartPole-v1')\n",
    "test_env(env)"
   ]
  },
  {
   "cell_type": "markdown",
   "id": "c8167cfb-f7c7-4d9f-929c-c78ec91d1d71",
   "metadata": {},
   "source": [
    "## 2- Acrobot\n",
    "Swing the bar up to a certian height"
   ]
  },
  {
   "cell_type": "code",
   "execution_count": 9,
   "id": "ed10181d-5536-4987-badf-cfed9d979447",
   "metadata": {},
   "outputs": [
    {
     "data": {
      "image/png": "[encoded data removed]",
      "text/plain": [
       "<Figure size 432x288 with 1 Axes>"
      ]
     },
     "metadata": {
      "needs_background": "light"
     },
     "output_type": "display_data"
    }
   ],
   "source": [
    "env = gym.make('Acrobot-v1')\n",
    "test_env(env)\n",
    "env.close()"
   ]
  },
  {
   "cell_type": "markdown",
   "id": "54eaa434-7e99-48d7-bbeb-6585f7b0dba1",
   "metadata": {},
   "source": [
    "## 3- MountainCar\n",
    "Reach the goal from the bottom of the valley"
   ]
  },
  {
   "cell_type": "code",
   "execution_count": 10,
   "id": "225ed691-339f-44b8-8f63-6df82048a942",
   "metadata": {},
   "outputs": [
    {
     "data": {
      "image/png": "[encoded data removed]",
      "text/plain": [
       "<Figure size 432x288 with 1 Axes>"
      ]
     },
     "metadata": {
      "needs_background": "light"
     },
     "output_type": "display_data"
    }
   ],
   "source": [
    "env = gym.make('MountainCar-v0')\n",
    "test_env(env)\n",
    "env.close()"
   ]
  }
 ],
 "metadata": {
  "kernelspec": {
   "display_name": "TorchRL",
   "language": "python",
   "name": "myenv"
  },
  "language_info": {
   "codemirror_mode": {
    "name": "ipython",
    "version": 3
   },
   "file_extension": ".py",
   "mimetype": "text/x-python",
   "name": "python",
   "nbconvert_exporter": "python",
   "pygments_lexer": "ipython3",
   "version": "3.8.0"
  }
 },
 "nbformat": 4,
 "nbformat_minor": 5
}
