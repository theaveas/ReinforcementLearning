{
 "cells": [
  {
   "cell_type": "markdown",
   "metadata": {},
   "source": [
    "# Policy Iteration\n",
    "\n",
    "**Algorithm**\n",
    "\\\n",
    "**Input**: $\\theta$ > 0 tolerance param, $\\gamma$ discount factor\n",
    "\\\n",
    "Initialize $V(s)$ and $\\pi(s|a)$ arbitrarily\n",
    "\\\n",
    "\\\n",
    "**while** policy-stable == False ***do*** \n",
    "\\\n",
    "$\\;\\;\\;\\;\\;\\;$ *Policy Evaluation:*\n",
    "\\\n",
    "$\\;\\;\\;\\;\\;\\;$ **while** $\\triangle > \\theta$ do\n",
    "\\\n",
    "$\\;\\;\\;\\;\\;\\; \\;\\;\\;\\;\\;\\;$ $ \\triangle \\leftarrow 0$\n",
    "\\\n",
    "$\\;\\;\\;\\;\\;\\; \\;\\;\\;\\;\\;\\;$ **for** $s \\in S$ do\n",
    "\\\n",
    "$\\;\\;\\;\\;\\;\\; \\;\\;\\;\\;\\;\\; \\;\\;\\;\\;\\;\\;$  $v \\leftarrow V(s)$\n",
    "\\\n",
    "$\\;\\;\\;\\;\\;\\; \\;\\;\\;\\;\\;\\; \\;\\;\\;\\;\\;\\;$ $V(s) \\leftarrow \\sum_{a}\\pi(a|s)\\sum_{s',r}p(s',r)[r+\\gamma(s')]$\n",
    "\\\n",
    "$\\;\\;\\;\\;\\;\\; \\;\\;\\;\\;\\;\\; \\;\\;\\;\\;\\;\\;$ $\\triangle \\leftarrow max(\\triangle, |v-V(s)])$\n",
    "\\\n",
    "$\\;\\;\\;\\;\\;\\; \\;\\;\\;\\;\\;\\;$ **end for**\n",
    "\\\n",
    "$\\;\\;\\;\\;\\;\\; \\;\\;\\;\\;\\;\\;$ **end while**\n",
    "\\\n",
    "\\\n",
    "$\\;\\;\\;\\;\\;\\;$ *Policy Improvement:*\n",
    "\\\n",
    "$\\;\\;\\;\\;\\;\\;$ policy-stable == True\n",
    "\\\n",
    "$\\;\\;\\;\\;\\;\\;$ **for** $s \\in S$ do\n",
    "\\\n",
    "$\\;\\;\\;\\;\\;\\; \\;\\;\\;\\;\\;\\;$ old-action $\\leftarrow \\pi(s)$\n",
    "\\\n",
    "$\\;\\;\\;\\;\\;\\; \\;\\;\\;\\;\\;\\;$ $\\pi(s) \\leftarrow argmax_{a \\in A(s)} \\sum_{s',r}p(s',r|s,a)[r+\\gamma V(s')]$\n",
    "\\\n",
    "$\\;\\;\\;\\;\\;\\; \\;\\;\\;\\;\\;\\;$**if** old-action $\\not= \\pi(s)$ **then**\n",
    "\\\n",
    "$\\;\\;\\;\\;\\;\\; \\;\\;\\;\\;\\;\\; \\;\\;\\;\\;\\;\\;$ policy-stable $\\leftarrow$ FALSE\n",
    "\\\n",
    "$\\;\\;\\;\\;\\;\\; \\;\\;\\;\\;\\;\\;$ **end if**\n",
    "\\\n",
    "$\\;\\;\\;\\;\\;\\;$ **end for**\n",
    "\\\n",
    "\\\n",
    " **end while**\n",
    "\\\n",
    "**Output:** Optimal policy $\\pi(a|s)$ and state values $V(s)$\n",
    "\n",
    "\n",
    "\n",
    "\n"
   ]
  },
  {
   "cell_type": "code",
   "execution_count": 1,
   "metadata": {},
   "outputs": [],
   "source": [
    "# import \n",
    "import gym\n",
    "import numpy as np \n",
    "import matplotlib.pyplot as plt\n",
    "\n",
    "from envs import Maze\n",
    "from utils import plot_policy, plot_values, test_agent"
   ]
  },
  {
   "cell_type": "code",
   "execution_count": 2,
   "metadata": {},
   "outputs": [
    {
     "data": {
      "text/plain": [
       "(0, 0)"
      ]
     },
     "execution_count": 2,
     "metadata": {},
     "output_type": "execute_result"
    }
   ],
   "source": [
    "# initialize environment\n",
    "env = Maze()\n",
    "env.reset()"
   ]
  },
  {
   "cell_type": "code",
   "execution_count": 3,
   "metadata": {},
   "outputs": [
    {
     "data": {
      "image/png": "[encoded data removed]",
      "text/plain": [
       "<Figure size 432x288 with 1 Axes>"
      ]
     },
     "metadata": {
      "needs_background": "light"
     },
     "output_type": "display_data"
    }
   ],
   "source": [
    "frame = env.render(mode='rgb_array')\n",
    "plt.axis('off')\n",
    "plt.imshow(frame)\n",
    "env.close()\n"
   ]
  },
  {
   "cell_type": "code",
   "execution_count": 5,
   "metadata": {},
   "outputs": [],
   "source": [
    "# define policy\n",
    "# create the policy\n",
    "policy_probs = np.full((5, 5, 4),0.25)"
   ]
  },
  {
   "cell_type": "code",
   "execution_count": 8,
   "metadata": {},
   "outputs": [],
   "source": [
    "# random distribution policy\n",
    "def policy(states):\n",
    "    return policy_probs[states]"
   ]
  },
  {
   "cell_type": "code",
   "execution_count": 9,
   "metadata": {},
   "outputs": [
    {
     "name": "stdout",
     "output_type": "stream",
     "text": [
      "Probability of taking action 0: 0.25\n",
      "Probability of taking action 1: 0.25\n",
      "Probability of taking action 2: 0.25\n",
      "Probability of taking action 3: 0.25\n"
     ]
    }
   ],
   "source": [
    "# test action probabilities\n",
    "action_probs = policy((0, 0))\n",
    "\n",
    "for action, prob in zip(range(4), action_probs):\n",
    "    print(f'Probability of taking action {action}: {prob}')"
   ]
  },
  {
   "cell_type": "code",
   "execution_count": null,
   "metadata": {},
   "outputs": [],
   "source": [
    "# test using random policy\n",
    "# it might take a while to complete\n",
    "env.reset()\n",
    "test_agent(env, policy, episodes=1)\n",
    "\n",
    "env.close()\n"
   ]
  },
  {
   "cell_type": "code",
   "execution_count": 11,
   "metadata": {},
   "outputs": [
    {
     "data": {
      "image/png": "[encoded data removed]",
      "text/plain": [
       "<Figure size 864x432 with 2 Axes>"
      ]
     },
     "metadata": {
      "needs_background": "light"
     },
     "output_type": "display_data"
    }
   ],
   "source": [
    "# plot the policy\n",
    "plot_policy(policy_probs, frame)"
   ]
  },
  {
   "cell_type": "code",
   "execution_count": 12,
   "metadata": {},
   "outputs": [
    {
     "data": {
      "image/png": "[encoded data removed]",
      "text/plain": [
       "<Figure size 864x360 with 3 Axes>"
      ]
     },
     "metadata": {
      "needs_background": "light"
     },
     "output_type": "display_data"
    }
   ],
   "source": [
    "# plot values\n",
    "state_values = np.zeros((5,5))\n",
    "plot_values(state_values, frame)"
   ]
  },
  {
   "cell_type": "markdown",
   "metadata": {},
   "source": [
    "### Implement Privacy Iteration\n",
    "**Bellman Equation**\n",
    "\n",
    "$$v_{\\pi}(s) = \\sum \\limits_{a}\\pi(s|a) \\sum \\limits_{s',r} P(s',r) [r+\\gamma v_{\\pi}(s')]$$"
   ]
  },
  {
   "cell_type": "code",
   "execution_count": null,
   "metadata": {},
   "outputs": [],
   "source": []
  }
 ],
 "metadata": {
  "interpreter": {
   "hash": "0560bb04753e9bea54a6ac47cf5286fd188ae3e66a7b41ee1270fe17f341e0e1"
  },
  "kernelspec": {
   "display_name": "Python 3.8.0 ('torchRL')",
   "language": "python",
   "name": "python3"
  },
  "language_info": {
   "codemirror_mode": {
    "name": "ipython",
    "version": 3
   },
   "file_extension": ".py",
   "mimetype": "text/x-python",
   "name": "python",
   "nbconvert_exporter": "python",
   "pygments_lexer": "ipython3",
   "version": "3.8.0"
  },
  "orig_nbformat": 4
 },
 "nbformat": 4,
 "nbformat_minor": 2
}
